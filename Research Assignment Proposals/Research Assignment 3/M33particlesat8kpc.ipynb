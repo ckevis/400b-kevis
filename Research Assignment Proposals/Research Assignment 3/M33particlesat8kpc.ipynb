{
 "cells": [
  {
   "cell_type": "markdown",
   "metadata": {},
   "source": [
    "In this code, I will be determining the orbits of many Sun analogues in a ring 8kpc from the center of M33. I will then be simulating how their orbits will change through time as M31 and the Milky Way merge to determine the most likely fate of these Sun-analogues. "
   ]
  },
  {
   "cell_type": "markdown",
   "metadata": {},
   "source": [
    "For the first part of the assignment, I am going to determine how the Sun analogues are orbiting around the center of M33 at current time. Once I determine their configuration, I will be able to plot how they are going to move with time."
   ]
  },
  {
   "cell_type": "code",
   "execution_count": 7,
   "metadata": {},
   "outputs": [],
   "source": [
    "#first I will load the packs that I will be needing\n",
    "import matplotlib.pyplot as plt\n",
    "import numpy as np\n",
    "import astropy.units as u\n",
    "#then I am loading previous code that I may need\n",
    "from ReadFile import Read\n",
    "from CenterOfMass import CenterOfMass\n",
    "from OrbitCOM import OrbitCOM"
   ]
  },
  {
   "cell_type": "code",
   "execution_count": 3,
   "metadata": {},
   "outputs": [
    {
     "ename": "IndentationError",
     "evalue": "unindent does not match any outer indentation level (<ipython-input-3-9e3913d8b707>, line 116)",
     "output_type": "error",
     "traceback": [
      "\u001b[1;36m  File \u001b[1;32m\"<ipython-input-3-9e3913d8b707>\"\u001b[1;36m, line \u001b[1;32m116\u001b[0m\n\u001b[1;33m    M33COM = CenterOfMass(filename,2)\u001b[0m\n\u001b[1;37m                                     ^\u001b[0m\n\u001b[1;31mIndentationError\u001b[0m\u001b[1;31m:\u001b[0m unindent does not match any outer indentation level\n"
     ]
    }
   ],
   "source": [
    "#now we are going to define a function to calculate the orbits of different\n",
    "#sun analogues\n",
    "class sunanorbits:\n",
    "    def __init__(self,filename,ptype):\n",
    "        #inputs: filename - name of the input file\n",
    "                #ptype - the type of particle. In this code, ptype = 1\n",
    "        #outputs:\n",
    "    \n",
    "        #We need to define the file that the code will be pulling data from\n",
    "        filename = 'M33_000.txt'\n",
    "        self.time, self.total, self.data = Read(filename)\n",
    "        \n",
    "        #Here we define the center of mass of M33\n",
    "        M33COM = CenterOfMass(filename,2)\n",
    "        self.pos = M33COM.COM_P(0.1,4).value\n",
    "        self.vel = M33COM.COM_V(self.pos[0],self.pos[1],self.pos[2]).value\n",
    "        \n",
    "        #create an array to store indexes of particles of desired Ptype                                                \n",
    "        self.index = np.where(self.data['type'] == 2)\n",
    "        # store the mass, positions, velocities of only the particles of the given type                                \n",
    "        self.m = self.data['m'][self.index]\n",
    "        self.x = self.data['x'][self.index]\n",
    "        self.y = self.data['y'][self.index]\n",
    "        self.z = self.data['z'][self.index]\n",
    "        self.vx = self.data['vx'][self.index]\n",
    "        self.vy = self.data['vy'][self.index]\n",
    "        self.vz = self.data['vz'][self.index]\n",
    "        \n",
    "        #M33 does not have a bulge\n",
    "        #so the mass we are looking at is disk mass (ptype=1)\n",
    "        #since halo mass (ptype=0) is all dark matter\n",
    "        \n",
    "    def relative_mag(orbit1, orbit2): \n",
    "        # Input: 3D vector 1 , 3D vector 2\n",
    "        # returns the magnitude of the relative position and velocities\n",
    "        #we will need this function to define the distance we need each particle\n",
    "        #to be to be a solar analogue\n",
    "        posdiff =  np.sqrt( (orbit1['x']-orbit2['x'])**2 + (orbit1['y']-orbit2['y'])**2 + (orbit1['z']-orbit2['z'])**2)\n",
    "        #veldiff =  np.sqrt( (orbit1['vx']-orbit2['vx'])**2 + (orbit1['vy']-orbit2['vy'])**2 + (orbit1['vz']-orbit2['vz'])**2)\n",
    "        return posdiff\n",
    "    \n",
    "\n",
    "        \n",
    "        #now we plot the points to see their position\n",
    "        fig = plt.figure(figsize=(10,10))\n",
    "        plt.title('The Position of Solar Analogues on the XY Plane')\n",
    "        plt.ylabel('Y Position [kpc]')\n",
    "        plt.xlabel('X Position [kpc]')\n",
    "        \n",
    "        plt.scatter(M33anx,M33any,color='aquamarine')\n",
    "        \n",
    "        plt.xlim(-50,50)\n",
    "        plt.ylim(-50,50)\n",
    "        \n",
    "    def parposxz(self,filename):\n",
    "        #input: filename - the name of the file with M33's data\n",
    "        #output: positions of the solar analogue particles on the xz plane\n",
    "        \n",
    "        #I'm just going to repeat the above for the particles in the xz plane\n",
    "        time,total,data = Read(filename)\n",
    "        \n",
    "        #now we need to get the center of mass so that we can pick particles 8kpc away from the center of mass\n",
    "        M33COM = CenterOfMass(filename,2)\n",
    "        pos = M33COM.COM_P(0.1,4).value\n",
    "        vel = M33COM.COM_V(self.pos[0],self.pos[1],self.pos[2]).value\n",
    "        \n",
    "        #now we define an index to sort out the particles we want\n",
    "        M33diff = relative_mag(data,pos)\n",
    "        index = np.where(self.data['type'] == 2.) & (abs(M33diff - 8) < 0.1)\n",
    "        \n",
    "        #now we can define the particles that we are looking at for this simulation\n",
    "        M33anx = M33COM.x[index] - pos[0].value\n",
    "        M33anz = M33COM.z[index] - pos[2].value\n",
    "        \n",
    "        #now we plot the points to see their position\n",
    "        fig = plt.figure(figsize=(10,10))\n",
    "        plt.title('The Position of Solar Analogues on the XZ Plane')\n",
    "        plt.ylabel('Z Position [kpc]')\n",
    "        plt.xlabel('X Position [kpc]')\n",
    "        \n",
    "        plt.scatter(M33anx,M33anz,color='aquamarine')\n",
    "        \n",
    "        plt.xlim(-50,50)\n",
    "        plt.ylim(-50,50)\n",
    "        \n",
    "    def parposyz(self,filename):\n",
    "        #input: filename - the name of the file with M33's data\n",
    "        #output: positions of the solar analogue particles on the yz plane\n",
    "        \n",
    "        #I'm just going to repeat the above for the particles in the yz plane\n",
    "                time,total,data = Read(filename)\n",
    "        \n",
    "        #now we need to get the center of mass so that we can pick particles 8kpc away from the center of mass\n",
    "        M33COM = CenterOfMass(filename,2)\n",
    "        pos = M33COM.COM_P(0.1,4).value\n",
    "        vel = M33COM.COM_V(self.pos[0],self.pos[1],self.pos[2]).value\n",
    "                \n",
    "        #now we define an index to sort out the particles we want\n",
    "        M33diff = relative_mag(data,pos)\n",
    "        index = np.where(self.data['type'] == 2.) & (abs(M33diff - 8) < 0.1)\n",
    "        \n",
    "        #now we can define the particles that we are looking at for this simulation\n",
    "        M33any = M33COM.y[index] - pos[1].value\n",
    "        M33anz = M33COM.z[index] - pos[2].value\n",
    "        \n",
    "        #now we plot the points to see their position\n",
    "        fig = plt.figure(figsize=(10,10))\n",
    "        plt.title('The Position of Solar Analogues on the YZ Plane')\n",
    "        plt.ylabel('Z Position [kpc]')\n",
    "        plt.xlabel('Y Position [kpc]')\n",
    "        \n",
    "        plt.scatter(M33any,M33anz,color='aquamarine')\n",
    "        \n",
    "        plt.xlim(-50,50)\n",
    "        plt.ylim(-50,50)"
   ]
  },
  {
   "cell_type": "code",
   "execution_count": 22,
   "metadata": {},
   "outputs": [],
   "source": [
    "def parpos(filename):\n",
    "    #input: filename - the name of the file with M33's data\n",
    "    #output: positions of the solar analogue particles on the xy plane\n",
    "    \n",
    "    #now we are going to take the information from our __init__ code\n",
    "    #and determine the mass, positions, and velocity of particles\n",
    "    #8 kpc away from the center of M33\n",
    "    #time,total,data = Read(filename)\n",
    "        \n",
    "    #now we need to get the center of mass so that we can pick particles 8kpc away from the center of mass\n",
    "    #I defined the COM in my __init__ function but I don't know how to recall it\n",
    "    #so I'm just going to do it again.\n",
    "    M33COM = CenterOfMass(filename,2)\n",
    "    pos = M33COM.COM_P(0.1,4)\n",
    "    vel = M33COM.COM_V(pos[0],pos[1],pos[2]).value\n",
    "    pos = pos.value    \n",
    "    #now we define an index to sort out the particles we want\n",
    "    M33diff = np.sqrt((M33COM.x-pos[0])**2 + (M33COM.y-pos[1])**2 + (M33COM.z-pos[2])**2)\n",
    "    index = np.where((abs(M33diff - 8) < 0.1))\n",
    "        \n",
    "    #now we can define the particles that we are looking at for this simulation\n",
    "    M33anx = M33COM.x[index] - pos[0]\n",
    "    M33any = M33COM.y[index] - pos[1]\n",
    "    M33anz = M33COM.z[index] - pos[2]\n",
    "    return M33anx,M33any,M33anz"
   ]
  },
  {
   "cell_type": "code",
   "execution_count": 23,
   "metadata": {},
   "outputs": [],
   "source": [
    "x,y,z = parpos('M33_000.txt')"
   ]
  },
  {
   "cell_type": "code",
   "execution_count": 25,
   "metadata": {},
   "outputs": [
    {
     "data": {
      "text/plain": [
       "(-50, 50)"
      ]
     },
     "execution_count": 25,
     "metadata": {},
     "output_type": "execute_result"
    },
    {
     "data": {
      "image/png": "[encoded data removed]",
      "text/plain": [
       "<Figure size 720x720 with 1 Axes>"
      ]
     },
     "metadata": {},
     "output_type": "display_data"
    }
   ],
   "source": [
    "#now we plot the points to see their position\n",
    "fig = plt.figure(figsize=(10,10))\n",
    "plt.title('The Position of Solar Analogues on the XZ Plane')\n",
    "plt.ylabel('Z Position [kpc]')\n",
    "plt.xlabel('X Position [kpc]')\n",
    "        \n",
    "plt.scatter(x,z,color='aquamarine')\n",
    "        \n",
    "plt.xlim(-50,50)\n",
    "plt.ylim(-50,50)"
   ]
  },
  {
   "cell_type": "code",
   "execution_count": null,
   "metadata": {},
   "outputs": [],
   "source": []
  }
 ],
 "metadata": {
  "kernelspec": {
   "display_name": "Python 3",
   "language": "python",
   "name": "python3"
  },
  "language_info": {
   "codemirror_mode": {
    "name": "ipython",
    "version": 3
   },
   "file_extension": ".py",
   "mimetype": "text/x-python",
   "name": "python",
   "nbconvert_exporter": "python",
   "pygments_lexer": "ipython3",
   "version": "3.6.5"
  }
 },
 "nbformat": 4,
 "nbformat_minor": 2
}
